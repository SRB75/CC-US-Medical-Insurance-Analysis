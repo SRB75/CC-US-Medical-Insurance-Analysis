{
 "cells": [
  {
   "cell_type": "markdown",
   "metadata": {},
   "source": [
    "# U.S. Medical Insurance Costs"
   ]
  },
  {
   "cell_type": "markdown",
   "metadata": {},
   "source": [
    "Codecademy has provided a dataset in CSV format.  We will open and review this data and perform some descriptive statistics\n",
    "and look at some relationships between the variables both mathematically and graphically.  Previously, I have viewed the \n",
    "CSV file in Excel and determined that there are no missing values."
   ]
  },
  {
   "cell_type": "markdown",
   "metadata": {},
   "source": [
    "## Import the dataset from CSV and initialize our variables ##"
   ]
  },
  {
   "cell_type": "markdown",
   "metadata": {},
   "source": [
    "**Import the csv library and read the headers**"
   ]
  },
  {
   "cell_type": "code",
   "execution_count": 1,
   "metadata": {},
   "outputs": [],
   "source": [
    "import csv"
   ]
  },
  {
   "cell_type": "code",
   "execution_count": 2,
   "metadata": {},
   "outputs": [
    {
     "name": "stdout",
     "output_type": "stream",
     "text": [
      "age,sex,bmi,children,smoker,region,charges\n",
      "\n"
     ]
    }
   ],
   "source": [
    "with open(\"insurance.csv\") as insurance_csv:\n",
    "    file_headers = insurance_csv.readline()\n",
    "    print(file_headers)"
   ]
  },
  {
   "cell_type": "markdown",
   "metadata": {},
   "source": [
    "**Create lists for each variable**"
   ]
  },
  {
   "cell_type": "code",
   "execution_count": 3,
   "metadata": {},
   "outputs": [],
   "source": [
    "age = []\n",
    "sex = []\n",
    "bmi = []\n",
    "children = []\n",
    "smoker = []\n",
    "region = []\n",
    "charges = []\n",
    "\n",
    "with open(\"insurance.csv\") as insurance_csv:\n",
    "    insurance_reader = csv.DictReader(insurance_csv)\n",
    "    for row in insurance_reader:\n",
    "        age.append(row[\"age\"])\n",
    "        sex.append(row[\"sex\"])\n",
    "        bmi.append(row[\"bmi\"])\n",
    "        children.append(row[\"children\"])\n",
    "        smoker.append(row[\"smoker\"])\n",
    "        region.append(row[\"region\"])\n",
    "        charges.append(row[\"charges\"])\n"
   ]
  },
  {
   "cell_type": "markdown",
   "metadata": {},
   "source": [
    "**A quick look at how the data converted**"
   ]
  },
  {
   "cell_type": "code",
   "execution_count": 4,
   "metadata": {},
   "outputs": [
    {
     "name": "stdout",
     "output_type": "stream",
     "text": [
      "['19', '18', '28', '33', '32', '31', '46', '37', '37', '60']\n",
      "['female', 'male', 'male', 'male', 'male', 'female', 'female', 'female', 'male', 'female']\n",
      "['27.9', '33.77', '33', '22.705', '28.88', '25.74', '33.44', '27.74', '29.83', '25.84']\n",
      "['0', '1', '3', '0', '0', '0', '1', '3', '2', '0']\n",
      "['yes', 'no', 'no', 'no', 'no']\n",
      "['southwest', 'southeast', 'southeast', 'northwest', 'northwest']\n",
      "['16884.924', '1725.5523', '4449.462', '21984.47061', '3866.8552']\n"
     ]
    }
   ],
   "source": [
    "print(age[:10])\n",
    "print(sex[:10])\n",
    "print(bmi[:10])\n",
    "print(children[:10])\n",
    "print(smoker[:5])\n",
    "print(region[:5])\n",
    "print(charges[:5])"
   ]
  },
  {
   "cell_type": "markdown",
   "metadata": {},
   "source": [
    "**Convert variables to appropriate data types**  \n",
    "All of the numerical data converted from the CSV in string format. We need ot convert the integers and floats away from string format. We can use list comprehensions to quickly convert these."
   ]
  },
  {
   "cell_type": "code",
   "execution_count": 5,
   "metadata": {},
   "outputs": [
    {
     "name": "stdout",
     "output_type": "stream",
     "text": [
      "[19, 18, 28, 33, 32, 31, 46, 37, 37, 60]\n",
      "[0, 1, 3, 0, 0, 0, 1, 3, 2, 0]\n",
      "[27.9, 33.77, 33.0, 22.705, 28.88, 25.74, 33.44, 27.74, 29.83, 25.84]\n",
      "[16884.924, 1725.5523, 4449.462, 21984.47061, 3866.8552]\n"
     ]
    }
   ],
   "source": [
    "age = [int(num) for num in age]\n",
    "children = [int(num) for num in children]\n",
    "bmi = [float(num) for num in bmi]\n",
    "charges = [float(num) for num in charges]\n",
    "\n",
    "# Test the revised variables to make sure the data type conversions were successful\n",
    "print(age[:10])\n",
    "print(children[:10])\n",
    "print(bmi[:10])\n",
    "print(charges[:5])"
   ]
  },
  {
   "cell_type": "markdown",
   "metadata": {},
   "source": [
    "## Create descriptive statistics for each variable "
   ]
  },
  {
   "cell_type": "markdown",
   "metadata": {},
   "source": [
    "**Age**"
   ]
  },
  {
   "cell_type": "code",
   "execution_count": 6,
   "metadata": {},
   "outputs": [
    {
     "name": "stdout",
     "output_type": "stream",
     "text": [
      "There are 1338 records in the age list.  They range from a low of 18, to a high of 64, with an average of 39.2\n"
     ]
    }
   ],
   "source": [
    "highest_age = max(age)\n",
    "lowest_age = min(age)\n",
    "avg_age = sum(age) / len(age)\n",
    "count_age = len(age)\n",
    "print(\"There are {} records in the age list.  They range from a low of {}, to a high of {}, with an average of {:.1f}\".format(count_age, lowest_age, highest_age, avg_age))"
   ]
  },
  {
   "cell_type": "markdown",
   "metadata": {},
   "source": [
    "**Gender**"
   ]
  },
  {
   "cell_type": "code",
   "execution_count": 7,
   "metadata": {},
   "outputs": [
    {
     "name": "stdout",
     "output_type": "stream",
     "text": [
      "['female', 'male']\n"
     ]
    }
   ],
   "source": [
    "unique_sex = list(set(sex))\n",
    "print(unique_sex)"
   ]
  },
  {
   "cell_type": "code",
   "execution_count": 8,
   "metadata": {},
   "outputs": [
    {
     "name": "stdout",
     "output_type": "stream",
     "text": [
      "There are 1338 records with gender recorded.  Women make up 662, or 49.5 percent, while men make up 676, or 50.5 percent\n"
     ]
    }
   ],
   "source": [
    "sex_count = len(sex)\n",
    "sex_male_count = sex.count(\"male\")\n",
    "sex_female_count = sex.count(\"female\")\n",
    "sex_male_pct = 100 * (sex_male_count / sex_count)\n",
    "sex_female_pct = 100 * (sex_female_count / sex_count)\n",
    "print(\"There are {} records with gender recorded.  Women make up {}, or {:.1f} percent, while men make up {}, or {:.1f} percent\".format(sex_count, sex_female_count, sex_female_pct, sex_male_count, sex_male_pct))"
   ]
  },
  {
   "cell_type": "markdown",
   "metadata": {},
   "source": [
    "**BMI**"
   ]
  },
  {
   "cell_type": "code",
   "execution_count": 9,
   "metadata": {},
   "outputs": [
    {
     "name": "stdout",
     "output_type": "stream",
     "text": [
      "There are 1338 records in the bmi list.  They range from a low of 15.96, to a high of 53.13, with an average of 30.66\n"
     ]
    }
   ],
   "source": [
    "highest_bmi = max(bmi)\n",
    "lowest_bmi = min(bmi)\n",
    "avg_bmi = sum(bmi) / len(bmi)\n",
    "count_bmi = len(bmi)\n",
    "print(\"There are {} records in the bmi list.  They range from a low of {}, to a high of {}, with an average of {:.2f}\".format(count_bmi, lowest_bmi, highest_bmi, avg_bmi))"
   ]
  },
  {
   "cell_type": "markdown",
   "metadata": {},
   "source": [
    "**Children**"
   ]
  },
  {
   "cell_type": "code",
   "execution_count": 10,
   "metadata": {},
   "outputs": [
    {
     "name": "stdout",
     "output_type": "stream",
     "text": [
      "There are 1338 records with number of children recorded.  They range from a low of 0, to a high of 5, with an average of 1.1\n"
     ]
    }
   ],
   "source": [
    "most_kids = max(children)\n",
    "least_kids = min(children)\n",
    "avg_kids = sum(children) / len(children)\n",
    "count_kids = len(children)\n",
    "print(\"There are {} records with number of children recorded.  They range from a low of {}, to a high of {}, with an average of {:.1f}\".format(count_kids, least_kids, most_kids, avg_kids))"
   ]
  },
  {
   "cell_type": "markdown",
   "metadata": {},
   "source": [
    "**Smoking Status**"
   ]
  },
  {
   "cell_type": "code",
   "execution_count": 11,
   "metadata": {},
   "outputs": [
    {
     "name": "stdout",
     "output_type": "stream",
     "text": [
      "['no', 'yes']\n"
     ]
    }
   ],
   "source": [
    "unique_smoke = list(set(smoker))\n",
    "print(unique_smoke)"
   ]
  },
  {
   "cell_type": "code",
   "execution_count": 12,
   "metadata": {},
   "outputs": [
    {
     "name": "stdout",
     "output_type": "stream",
     "text": [
      "There are 1338 records with smoking status recorded.  Smokers make up 274, or 20.5 percent, while non-smokers make up 1064, or 79.5 percent\n"
     ]
    }
   ],
   "source": [
    "smoker_count = len(smoker)\n",
    "smoker_yes_count = smoker.count(\"yes\")\n",
    "smoker_no_count = smoker.count(\"no\")\n",
    "smoker_yes_pct = 100 * (smoker_yes_count / smoker_count)\n",
    "smoker_no_pct = 100 * (smoker_no_count / smoker_count)\n",
    "print(\"There are {} records with smoking status recorded.  Smokers make up {}, or {:.1f} percent, while non-smokers make up {}, or {:.1f} percent\".format(smoker_count, smoker_yes_count, smoker_yes_pct, smoker_no_count, smoker_no_pct))"
   ]
  },
  {
   "cell_type": "markdown",
   "metadata": {},
   "source": [
    "**Region of the United States**"
   ]
  },
  {
   "cell_type": "code",
   "execution_count": 13,
   "metadata": {},
   "outputs": [
    {
     "name": "stdout",
     "output_type": "stream",
     "text": [
      "['northwest', 'southeast', 'northeast', 'southwest']\n"
     ]
    }
   ],
   "source": [
    "unique_region = list(set(region))\n",
    "print(unique_region)"
   ]
  },
  {
   "cell_type": "code",
   "execution_count": 14,
   "metadata": {},
   "outputs": [
    {
     "name": "stdout",
     "output_type": "stream",
     "text": [
      "There are 1338 records with region recorded.  The records are broken into 4 regions.\n",
      "Southeast:\t364 total, or 27.2 percent\n",
      "Southwest:\t325 total, or 24.3 percent\n",
      "Northeast:\t324 total, or 24.2 percent\n",
      "Northwest:\t325 total, or 24.3 percent\n"
     ]
    }
   ],
   "source": [
    "region_count = len(region)\n",
    "region_se_count = region.count(\"southeast\")\n",
    "region_sw_count = region.count(\"southwest\")\n",
    "region_ne_count = region.count(\"northeast\")\n",
    "region_nw_count = region.count(\"northwest\")\n",
    "region_se_pct = 100 * (region_se_count / region_count)\n",
    "region_sw_pct = 100 * (region_sw_count / region_count)\n",
    "region_ne_pct = 100 * (region_ne_count / region_count)\n",
    "region_nw_pct = 100 * (region_nw_count / region_count)\n",
    "print(\"There are {} records with region recorded.  The records are broken into 4 regions.\\nSoutheast:\\t{} total, or {:.1f} percent\\nSouthwest:\\t{} total, or {:.1f} percent\\nNortheast:\\t{} total, or {:.1f} percent\\nNorthwest:\\t{} total, or {:.1f} percent\".format(region_count, region_se_count, region_se_pct, region_sw_count, region_sw_pct, region_ne_count, region_ne_pct, region_nw_count, region_nw_pct))"
   ]
  },
  {
   "cell_type": "markdown",
   "metadata": {},
   "source": [
    "**Medical Insurance Charges**"
   ]
  },
  {
   "cell_type": "code",
   "execution_count": 15,
   "metadata": {},
   "outputs": [
    {
     "name": "stdout",
     "output_type": "stream",
     "text": [
      "There are 1338 insurance charges recorded.  They range from a low of $1122, to a high of $63770, with an average of $13270\n"
     ]
    }
   ],
   "source": [
    "highest_charge = max(charges)\n",
    "lowest_charge = min(charges)\n",
    "avg_charge = sum(charges) / len(charges)\n",
    "count_charges = len(charges)\n",
    "print(\"There are {} insurance charges recorded.  They range from a low of ${:.0f}, to a high of ${:.0f}, with an average of ${:.0f}\".format(count_charges, lowest_charge, highest_charge, avg_charge))"
   ]
  },
  {
   "cell_type": "markdown",
   "metadata": {},
   "source": [
    "## Regression Analysis:  The relationship between BMI and Insurance Costs ##"
   ]
  },
  {
   "cell_type": "markdown",
   "metadata": {},
   "source": [
    "**Summary of the Analysis Procedure:**  The Analysis will consist of solving an equation for a line that relates BMI to insuance costs.  A brute force method will be used where numerous sample slope and intercept values are tested and the values producing the least error will be accepted.  The analysis will be performed across the full sample, and then separately for men and women.  BMI and insurance costs will need to be normalized to produce meaningful numbers.  "
   ]
  },
  {
   "cell_type": "markdown",
   "metadata": {},
   "source": [
    "**Reasoning behind Normalization:**  The proposed regression analysis will plot BMI (Body Mass Index) on the x-axis against insurance costs on the y-axis.  Both variables lack a 0, or any negative numbers.  You can't possibly have a BMI that is 0 or negative, and the smallest observed insurance cost is $1122.  For this reason, both variables will be converted to Z-scores, which normalizes them around their mean.  This will make the graphical representation of the regression lines more meaningful.  The point (0, 0) will now represent a hypothetical case who's BMI is exactly average, and whose insurance cost is also exactly average.  Without doing this, the analysis would be limited to a small space in the upper right-hand quadrant of the graph.  "
   ]
  },
  {
   "cell_type": "markdown",
   "metadata": {},
   "source": [
    "### Creating Z-Scores"
   ]
  },
  {
   "cell_type": "markdown",
   "metadata": {},
   "source": [
    "**Z-Scores for BMI (Full Sample, and by Gender)**"
   ]
  },
  {
   "cell_type": "code",
   "execution_count": 16,
   "metadata": {},
   "outputs": [],
   "source": [
    "# First we need to create BMI lists for males and females\n",
    "bmi_male = []\n",
    "bmi_fem = []\n",
    "for x, y in zip(sex, bmi):\n",
    "    if x == \"male\":\n",
    "        bmi_male.append(y)\n",
    "    else:\n",
    "        bmi_fem.append(y)\n"
   ]
  },
  {
   "cell_type": "code",
   "execution_count": 17,
   "metadata": {},
   "outputs": [
    {
     "data": {
      "text/plain": [
       "True"
      ]
     },
     "execution_count": 17,
     "metadata": {},
     "output_type": "execute_result"
    }
   ],
   "source": [
    "# Test by checking the new lists against the counts of males and females\n",
    "sex_male_count == len(bmi_male)\n",
    "sex_female_count == len(bmi_fem)"
   ]
  },
  {
   "cell_type": "code",
   "execution_count": 18,
   "metadata": {},
   "outputs": [
    {
     "name": "stdout",
     "output_type": "stream",
     "text": [
      "combined:  30.66\n",
      "average male bmi:  30.94\n",
      "average female bmi:  30.38\n"
     ]
    }
   ],
   "source": [
    "# Next, we need means for all three lists.  \n",
    "# We have the mean for combined bmi already\n",
    "bmi_male_avg = sum(bmi_male) / len(bmi_male)\n",
    "bmi_fem_avg = sum(bmi_fem) / len(bmi_fem)\n",
    "print(\"combined:  {:.2f}\".format(avg_bmi))\n",
    "print(\"average male bmi:  {:.2f}\".format(bmi_male_avg))\n",
    "print(\"average female bmi:  {:.2f}\".format(bmi_fem_avg))"
   ]
  },
  {
   "cell_type": "code",
   "execution_count": 19,
   "metadata": {},
   "outputs": [
    {
     "name": "stdout",
     "output_type": "stream",
     "text": [
      "global bmi stdev:  6.10\n",
      "male bmi stdev:  6.14\n",
      "female bmi stdev:  6.05\n"
     ]
    }
   ],
   "source": [
    "# Next, we need the standard deviations for all three lists.\n",
    "import statistics\n",
    "bmi_stdev = statistics.stdev(bmi)\n",
    "bmi_male_stdev = statistics.stdev(bmi_male)\n",
    "bmi_fem_stdev = statistics.stdev(bmi_fem)\n",
    "print(\"global bmi stdev:  {:.2f}\".format(bmi_stdev))\n",
    "print(\"male bmi stdev:  {:.2f}\".format(bmi_male_stdev))\n",
    "print(\"female bmi stdev:  {:.2f}\".format(bmi_fem_stdev))"
   ]
  },
  {
   "cell_type": "code",
   "execution_count": 20,
   "metadata": {},
   "outputs": [
    {
     "name": "stdout",
     "output_type": "stream",
     "text": [
      "[-0.4531505677030311, 0.5094306199542389, 0.38316358170958803, -1.305043117938042, -0.29244706448256697]\n",
      "[0.4603699051700505, 0.33497161528032793, -1.34161980603745, -0.33599066309065273, -0.18127848725268403]\n",
      "[-0.4098147178026488, -0.7670743526678574, 0.5064900864349693, -0.4362783944593309, -0.7505345547574308]\n"
     ]
    },
    {
     "data": {
      "text/plain": [
       "True"
      ]
     },
     "execution_count": 20,
     "metadata": {},
     "output_type": "execute_result"
    }
   ],
   "source": [
    "# Now, with all of the means and standard deviations, we can convert our bmi lists to z-score lists\n",
    "z_bmi = [((item - avg_bmi) / bmi_stdev) for item in bmi]\n",
    "z_bmi_male = [((item - bmi_male_avg) / bmi_male_stdev) for item in bmi_male]\n",
    "z_bmi_fem = [((item - bmi_fem_avg) / bmi_fem_stdev) for item in bmi_fem]\n",
    "\n",
    "# Print the first 5 items in each list to verify numbers are present\n",
    "print(z_bmi[:5])\n",
    "print(z_bmi_male[:5])\n",
    "print(z_bmi_fem[:5])\n",
    "\n",
    "# Verify list lengths against original lists\n",
    "len(bmi) == len(z_bmi)\n",
    "len(bmi_male) == len(z_bmi_male)\n",
    "len(bmi_fem) == len(z_bmi_fem)"
   ]
  },
  {
   "cell_type": "markdown",
   "metadata": {},
   "source": [
    "**Z-Scores for Insurance Cost (Full Sample, and by gender)**"
   ]
  },
  {
   "cell_type": "code",
   "execution_count": 21,
   "metadata": {},
   "outputs": [],
   "source": [
    "# First we need to create insurance cost lists for males and females\n",
    "charges_male = []\n",
    "charges_fem = []\n",
    "for x, y in zip(sex, charges):\n",
    "    if x == \"male\":\n",
    "        charges_male.append(y)\n",
    "    else:\n",
    "        charges_fem.append(y)"
   ]
  },
  {
   "cell_type": "code",
   "execution_count": 22,
   "metadata": {},
   "outputs": [
    {
     "data": {
      "text/plain": [
       "True"
      ]
     },
     "execution_count": 22,
     "metadata": {},
     "output_type": "execute_result"
    }
   ],
   "source": [
    "# Test for successful splitting of the list by checking length against number of males and females\n",
    "sex_male_count == len(charges_male)\n",
    "sex_female_count == len(charges_fem)"
   ]
  },
  {
   "cell_type": "code",
   "execution_count": 23,
   "metadata": {},
   "outputs": [
    {
     "name": "stdout",
     "output_type": "stream",
     "text": [
      "Sample average insurance cost:  $13,270\n",
      "Male average insurance cost:  $13,957\n",
      "Female average insurance cost:  $12,570\n"
     ]
    }
   ],
   "source": [
    "# Next, we need the mean for all three lists, insurance charges globally, and males and females\n",
    "# We already have the global mean, so we can skip that\n",
    "charges_male_avg = sum(charges_male) / len(charges_male)\n",
    "charges_fem_avg = sum(charges_fem) / len(charges_fem)\n",
    "\n",
    "print(\"Sample average insurance cost:  ${:,.0f}\".format(avg_charge))\n",
    "print(\"Male average insurance cost:  ${:,.0f}\".format(charges_male_avg))\n",
    "print(\"Female average insurance cost:  ${:,.0f}\".format(charges_fem_avg))"
   ]
  },
  {
   "cell_type": "code",
   "execution_count": 24,
   "metadata": {},
   "outputs": [
    {
     "name": "stdout",
     "output_type": "stream",
     "text": [
      "Sample insurance cost standard deviation:  $12,110\n",
      "Male insurance cost standard deviation:  $12,971\n",
      "Female insurance cost standard deviation:  $11,129\n"
     ]
    }
   ],
   "source": [
    "# Next, we need to calculate standard deviations for all three lists\n",
    "import statistics\n",
    "charges_stdev = statistics.stdev(charges)\n",
    "charges_male_stdev = statistics.stdev(charges_male)\n",
    "charges_fem_stdev = statistics.stdev(charges_fem)\n",
    "\n",
    "print(\"Sample insurance cost standard deviation:  ${:,.0f}\".format(charges_stdev))\n",
    "print(\"Male insurance cost standard deviation:  ${:,.0f}\".format(charges_male_stdev))\n",
    "print(\"Female insurance cost standard deviation:  ${:,.0f}\".format(charges_fem_stdev))"
   ]
  },
  {
   "cell_type": "code",
   "execution_count": 25,
   "metadata": {},
   "outputs": [
    {
     "name": "stdout",
     "output_type": "stream",
     "text": [
      "[0.2984722032219593, -0.9533327211257794, -0.728402318770214, 0.7195739272689274, -0.776511836475257]\n",
      "[-0.9429631054514892, -0.7329635481423665, 0.6188962603937442, -0.7778795635614109, -0.5820927756359713]\n",
      "[0.3877670960934087, -0.7919122839005197, -0.38899312276414805, -0.4751742285925829, 1.4694935159312472]\n"
     ]
    },
    {
     "data": {
      "text/plain": [
       "True"
      ]
     },
     "execution_count": 25,
     "metadata": {},
     "output_type": "execute_result"
    }
   ],
   "source": [
    "# Now, with all of the means and standard deviations, we can convert all three lists to Z-scores\n",
    "z_charges = [((item - avg_charge)  / charges_stdev) for item in charges]\n",
    "z_charges_male = [((item - charges_male_avg) / charges_male_stdev) for item in charges_male]\n",
    "z_charges_fem = [((item - charges_fem_avg) / charges_fem_stdev) for item in charges_fem]\n",
    "\n",
    "# Print the first 5 numbers in each list to make sure that the lists populated\n",
    "print(z_charges[:5])\n",
    "print(z_charges_male[:5])\n",
    "print(z_charges_fem[:5])\n",
    "\n",
    "# Verify that the lists are the appropriate length by comparing to their source list\n",
    "len(charges) == len(z_charges)\n",
    "len(charges_male) == len(z_charges_male)\n",
    "len(charges_fem) == len(z_charges_fem)"
   ]
  },
  {
   "cell_type": "markdown",
   "metadata": {},
   "source": [
    "### Derive the equation for the best fit line in y=mx+b format relating BMI to Insurance Costs for the Full Sample"
   ]
  },
  {
   "cell_type": "markdown",
   "metadata": {},
   "source": [
    "**Detail of how a brute force derivation will work:**  We will combine the BMI and Insurance cost Z-scores from our sample into x,y pairs that will be data points.  We will try many possible values for slope and y-intercept.  In each case we will calcluate the difference between observed data for y, and the predicted value of y based on the y = mx + b equation.  Differences will be classified as errors and summed.  Whatever combination of m and b produces the least total errors, will be accepted as the best fit values for slope and y-intercept. "
   ]
  },
  {
   "cell_type": "markdown",
   "metadata": {},
   "source": [
    "**Create a function to calculate error for a model versus any given data point**  \n",
    "Ultimately, we will need to build a loop that iterates through possible m-values and possible b-values.  In order to that, there are some functions that we need available for the loop to call.  This is the first of those."
   ]
  },
  {
   "cell_type": "code",
   "execution_count": 26,
   "metadata": {},
   "outputs": [],
   "source": [
    "def calculate_error(m, b, point):\n",
    "    x_point = point[0]\n",
    "    y_point = point[1]\n",
    "    model_y = (m * x_point) + b\n",
    "    error_y = abs(model_y - y_point)\n",
    "    return error_y\n"
   ]
  },
  {
   "cell_type": "markdown",
   "metadata": {},
   "source": [
    "**Create a function to calculate total errors across all data points**  \n",
    "This function will call the calculate_error function for all points, giving us total errors for any combination of m and b"
   ]
  },
  {
   "cell_type": "code",
   "execution_count": 27,
   "metadata": {},
   "outputs": [],
   "source": [
    "def calculate_all_errors(m, b, datapoints):\n",
    "    # We need to initiate a variable that for total error\n",
    "    total_error = 0\n",
    "    # Now we need to loop through the datapoints\n",
    "    for point in datapoints:\n",
    "        total_error += calculate_error(m, b, point)\n",
    "    return total_error\n"
   ]
  },
  {
   "cell_type": "markdown",
   "metadata": {},
   "source": [
    "**Create lists of candidate m and b values**  \n",
    "Here, we need to do some guessing.  Because we are working with Z-scores, not raw data, there is a limited range of possible values.  We will create lists running from -3 to 3 at 5/100th intervals (i.e., -3, -2.95, -2.90, -2.85, etc).  If the best fit value for either variable turns out to be 3 or -3, then we will rerun with an expanded list of candidate values.  "
   ]
  },
  {
   "cell_type": "code",
   "execution_count": 28,
   "metadata": {},
   "outputs": [],
   "source": [
    "possible_ms = [(item / 100) for item in range(-300, 301, 5)]\n",
    "possible_bs = [(item / 100) for item in range(-300, 301, 5)]\n"
   ]
  },
  {
   "cell_type": "markdown",
   "metadata": {},
   "source": [
    "**Create the data points for the full sample**  \n",
    "We wil use the zip function and create (x, y) data points from the Z-scores for BMI and Insurance Costs for the full sample.  This will represent the observed data from which the error of any given model can be calculated."
   ]
  },
  {
   "cell_type": "code",
   "execution_count": 29,
   "metadata": {},
   "outputs": [],
   "source": [
    "combined_z_data_points = list(zip(z_bmi, z_charges))"
   ]
  },
  {
   "cell_type": "markdown",
   "metadata": {},
   "source": [
    "**Build a loop to find the best fit m and b values**  \n",
    "We need to initialize some variables and then build a loop that will test all possible combinations of m and b against every data point that we just created.  Every time the loop iterates it will take the total errors and compare them to the current least errors.  If the new total errors are lower, it will accept that combination of m and b as the best.  That process will continue until all possible combinations of m and b have been tested."
   ]
  },
  {
   "cell_type": "code",
   "execution_count": 30,
   "metadata": {
    "scrolled": true
   },
   "outputs": [
    {
     "name": "stdout",
     "output_type": "stream",
     "text": [
      "The smallest total error was 919.9\n",
      "The best fit m value was 0.05\n",
      "The best fit b value was -0.30\n"
     ]
    }
   ],
   "source": [
    "# First we need to initialize the variables that will be needed for the loop\n",
    "best_m = 0\n",
    "best_b = 0\n",
    "smallest_error = (float(\"inf\"))\n",
    "\n",
    "# Now we need the loop that will test all of our data\n",
    "for m in possible_ms:\n",
    "    for b in possible_bs:\n",
    "        this_iteration = calculate_all_errors(m, b, combined_z_data_points)\n",
    "        if this_iteration < smallest_error:\n",
    "            smallest_error = this_iteration\n",
    "            best_m = m\n",
    "            best_b = b\n",
    "\n",
    "# Finally, let's see our best fitting values for m and b\n",
    "print(\"The smallest total error was {:,.1f}\".format(smallest_error))\n",
    "print(\"The best fit m value was {:.2f}\".format(best_m))\n",
    "print(\"The best fit b value was {:.2f}\".format(best_b))"
   ]
  },
  {
   "cell_type": "markdown",
   "metadata": {},
   "source": [
    "### Derive the equation for the best fit line in y=mx+b format relating BMI to Insurance Costs by Gender ###"
   ]
  },
  {
   "cell_type": "markdown",
   "metadata": {},
   "source": [
    "**Do we need to reinvent the wheel to test the relationship for males and females separately?**  \n",
    "No.  The functions and loops will work just the same.  So will the lists of candidate m and b values.  All that needs to be changed is the data used to create the data points.  "
   ]
  },
  {
   "cell_type": "markdown",
   "metadata": {},
   "source": [
    "**Males**"
   ]
  },
  {
   "cell_type": "code",
   "execution_count": 31,
   "metadata": {},
   "outputs": [],
   "source": [
    "# Create the data points using only the male case data\n",
    "male_z_data_points = list(zip(z_bmi_male, z_charges_male))"
   ]
  },
  {
   "cell_type": "code",
   "execution_count": 32,
   "metadata": {},
   "outputs": [
    {
     "name": "stdout",
     "output_type": "stream",
     "text": [
      "The smallest total error was 475.1\n",
      "The best fit m value for males was 0.05\n",
      "The best fit b value for males was -0.35\n"
     ]
    }
   ],
   "source": [
    "# Initialize new variables\n",
    "best_b_male = 0\n",
    "best_m_male = 0\n",
    "smallest_error_male = (float(\"inf\"))\n",
    "\n",
    "# Now we need the loop that will test all of our male data\n",
    "for m in possible_ms:\n",
    "    for b in possible_bs:\n",
    "        this_iteration = calculate_all_errors(m, b, male_z_data_points)\n",
    "        if this_iteration < smallest_error_male:\n",
    "            smallest_error_male = this_iteration\n",
    "            best_m_male = m\n",
    "            best_b_male = b\n",
    "            \n",
    "# Finally, let's see our best fitting values for m and b for the male data sets\n",
    "print(\"The smallest total error was {:,.1f}\".format(smallest_error_male))\n",
    "print(\"The best fit m value for males was {:.2f}\".format(best_m_male))\n",
    "print(\"The best fit b value for males was {:.2f}\".format(best_b_male))"
   ]
  },
  {
   "cell_type": "markdown",
   "metadata": {},
   "source": [
    "**Females**"
   ]
  },
  {
   "cell_type": "code",
   "execution_count": 33,
   "metadata": {},
   "outputs": [],
   "source": [
    "# Create the data points using only the female case data\n",
    "fem_z_data_points = list(zip(z_bmi_fem, z_charges_fem))"
   ]
  },
  {
   "cell_type": "code",
   "execution_count": 34,
   "metadata": {},
   "outputs": [
    {
     "name": "stdout",
     "output_type": "stream",
     "text": [
      "The smallest total error was 446.8\n",
      "The best fit m value for females was 0.05\n",
      "The best fit b value for females was -0.30\n"
     ]
    }
   ],
   "source": [
    "# Initialize new variables\n",
    "best_b_fem = 0\n",
    "best_m_fem = 0\n",
    "smallest_error_fem = (float(\"inf\"))\n",
    "\n",
    "# Now we need the loop that will test all of our male data\n",
    "for m in possible_ms:\n",
    "    for b in possible_bs:\n",
    "        this_iteration = calculate_all_errors(m, b, fem_z_data_points)\n",
    "        if this_iteration < smallest_error_fem:\n",
    "            smallest_error_fem = this_iteration\n",
    "            best_m_fem = m\n",
    "            best_b_fem = b\n",
    "            \n",
    "# Finally, let's see our best fitting values for m and b for the male data sets\n",
    "print(\"The smallest total error was {:,.1f}\".format(smallest_error_fem))\n",
    "print(\"The best fit m value for females was {:.2f}\".format(best_m_fem))\n",
    "print(\"The best fit b value for females was {:.2f}\".format(best_b_fem))"
   ]
  },
  {
   "cell_type": "markdown",
   "metadata": {},
   "source": [
    "### Graphical Representation of the data"
   ]
  },
  {
   "cell_type": "markdown",
   "metadata": {},
   "source": [
    "**Full Sample**"
   ]
  },
  {
   "cell_type": "code",
   "execution_count": 35,
   "metadata": {},
   "outputs": [],
   "source": [
    "#  We will need a couple different libraries to plot the data and take samples\n",
    "import numpy as np\n",
    "import matplotlib.pyplot as plt\n",
    "import seaborn as sns"
   ]
  },
  {
   "cell_type": "code",
   "execution_count": 40,
   "metadata": {},
   "outputs": [],
   "source": [
    "# We will create a sample of 335 datapoints because our data set has over 1300 cases.  This is 25% of the data.\n",
    "sample_size = 335 \n",
    "indices = np.random.choice(len(z_bmi), size=sample_size, replace=False)\n",
    "sampled_x_values = [z_bmi[i] for i in indices]\n",
    "sampled_y_values = [z_charges[i] for i in indices]"
   ]
  },
  {
   "cell_type": "code",
   "execution_count": 42,
   "metadata": {},
   "outputs": [
    {
     "data": {
      "image/png": "[encoded data removed]",
      "text/plain": [
       "<Figure size 1000x800 with 1 Axes>"
      ]
     },
     "metadata": {},
     "output_type": "display_data"
    }
   ],
   "source": [
    "# Create the framework for our scatterplot\n",
    "# The alpha parameter will be used to adjust visibility of the points\n",
    "plt.figure(figsize=(10, 8))\n",
    "sns.scatterplot(x=sampled_x_values, y=sampled_y_values, color='blue', alpha=0.5)\n",
    "\n",
    "# Now we need to create the predicted data points from our model\n",
    "predicted_y_full = [best_m * x + best_b for x in sampled_x_values]\n",
    "\n",
    "# Now we instruct it to plot our regression line, too\n",
    "plt.plot(sampled_x_values, predicted_y_full, color='red', label='Regression Line')\n",
    "\n",
    "plt.title('Scatter Plot with Regression Line for Males and Females (Sampled Data)')\n",
    "plt.xlabel('Z-score of BMI')\n",
    "plt.ylabel('Z-score of Insurance Costs')\n",
    "plt.grid(True)\n",
    "plt.legend()\n",
    "plt.show()"
   ]
  },
  {
   "cell_type": "markdown",
   "metadata": {},
   "source": [
    "**Males**"
   ]
  },
  {
   "cell_type": "code",
   "execution_count": 43,
   "metadata": {},
   "outputs": [],
   "source": [
    "# We will create a sample of 338 datapoints because our data set has 676 cases.  This is 50% of the data.\n",
    "sample_size = 338 \n",
    "indices = np.random.choice(len(z_bmi_male), size=sample_size, replace=False)\n",
    "sampled_x_values = [z_bmi_male[i] for i in indices]\n",
    "sampled_y_values = [z_charges_male[i] for i in indices]"
   ]
  },
  {
   "cell_type": "code",
   "execution_count": 44,
   "metadata": {},
   "outputs": [
    {
     "data": {
      "image/png": "[encoded data removed]",
      "text/plain": [
       "<Figure size 1000x800 with 1 Axes>"
      ]
     },
     "metadata": {},
     "output_type": "display_data"
    }
   ],
   "source": [
    "# Create the framework for our scatterplot\n",
    "# The alpha parameter will be used to adjust visibility of the points\n",
    "plt.figure(figsize=(10, 8))\n",
    "sns.scatterplot(x=sampled_x_values, y=sampled_y_values, color='blue', alpha=0.5)\n",
    "\n",
    "# Now we need to create the predicted data points from our model\n",
    "predicted_y_male = [best_m_male * x + best_b_male for x in sampled_x_values]\n",
    "\n",
    "# Now we instruct it to plot our regression line, too\n",
    "plt.plot(sampled_x_values, predicted_y_male, color='red', label='Regression Line')\n",
    "\n",
    "plt.title('Scatter Plot with Regression Line for Males (Sampled Data)')\n",
    "plt.xlabel('Z-score of BMI')\n",
    "plt.ylabel('Z-score of Insurance Costs')\n",
    "plt.grid(True)\n",
    "plt.legend()\n",
    "plt.show()"
   ]
  },
  {
   "cell_type": "markdown",
   "metadata": {},
   "source": [
    "**Females**"
   ]
  },
  {
   "cell_type": "code",
   "execution_count": 45,
   "metadata": {},
   "outputs": [],
   "source": [
    "# We will create a sample of 331 datapoints because our data set has 662 cases.  This is 50% of the data.\n",
    "sample_size = 331 \n",
    "indices = np.random.choice(len(z_bmi_fem), size=sample_size, replace=False)\n",
    "sampled_x_values = [z_bmi_fem[i] for i in indices]\n",
    "sampled_y_values = [z_charges_fem[i] for i in indices]"
   ]
  },
  {
   "cell_type": "code",
   "execution_count": 46,
   "metadata": {},
   "outputs": [
    {
     "data": {
      "image/png": "[encoded data removed]",
      "text/plain": [
       "<Figure size 1000x800 with 1 Axes>"
      ]
     },
     "metadata": {},
     "output_type": "display_data"
    }
   ],
   "source": [
    "# Create the framework for our scatterplot\n",
    "# The alpha parameter will be used to adjust visibility of the points\n",
    "plt.figure(figsize=(10, 8))\n",
    "sns.scatterplot(x=sampled_x_values, y=sampled_y_values, color='blue', alpha=0.5)\n",
    "\n",
    "# Now we need to create the predicted data points from our model\n",
    "predicted_y_fem = [best_m_fem * x + best_b_fem for x in sampled_x_values]\n",
    "\n",
    "# Now we instruct it to plot our regression line, too\n",
    "plt.plot(sampled_x_values, predicted_y_fem, color='red', label='Regression Line')\n",
    "\n",
    "plt.title('Scatter Plot with Regression Line for Females (Sampled Data)')\n",
    "plt.xlabel('Z-score of BMI')\n",
    "plt.ylabel('Z-score of Insurance Costs')\n",
    "plt.grid(True)\n",
    "plt.legend()\n",
    "plt.show()"
   ]
  },
  {
   "cell_type": "markdown",
   "metadata": {},
   "source": [
    "### Summary of Findings"
   ]
  },
  {
   "cell_type": "markdown",
   "metadata": {},
   "source": [
    "**1. No Gender Differences**  \n",
    "The best fit line for the full sample is y = 0.05x - 0.3  \n",
    "The best fit line for the male subgroup is a nearly identical y = 0.05x - 0.35  \n",
    "The best fit line for the female subgroup matches the full sample exactly, y = 0.05x - 0.3  \n",
    "Given the constraints of using linear regression to study the relationship between BMI (Body Mass Index) and Medical Insurance Costs, we are unable to detect a gender difference between males and females."
   ]
  },
  {
   "cell_type": "markdown",
   "metadata": {},
   "source": [
    "**2. Very little predictive power**  \n",
    "The slope of the best fit line is a nearly straight 0.05 for all three test cases.  This indicates that a 1 standard deviation change in BMI only accounts for 5/100ths of a standard deviation change in insurance cost.  This is readily seen in the three graphs.  All three regression lines are nearly flat, showing that even wildly different BMI z-scores don't correspond with different insurance costs.  "
   ]
  },
  {
   "cell_type": "markdown",
   "metadata": {},
   "source": [
    "**3. Considerations for future study**  \n",
    "Linear Regression did not provide a way to use BMI to predict changes in insurance cost in our sample.  There are a couple reasons why this could be.  First, it could be that BMI is simply not an effective predictor of insurance costs.  If there is not relationship, we aren't going to find one with linear regression.  Second, it could be that BMI is a useful predictor, but linear regression is not the way to see it.  A more eleborate statistical analysis could prove that BMI has predictive value.  Such a study is beyond the scope of the current analysis.  Third, it could be that BMI provides an interaction effect with other variables.  Such an interaction would only be able to be determined if multiple independent variable, and their interaction effects were analyzed simultaneously.  Again, this would be outside the scope of the current study.  "
   ]
  },
  {
   "cell_type": "code",
   "execution_count": null,
   "metadata": {},
   "outputs": [],
   "source": []
  }
 ],
 "metadata": {
  "kernelspec": {
   "display_name": "Python 3 (ipykernel)",
   "language": "python",
   "name": "python3"
  },
  "language_info": {
   "codemirror_mode": {
    "name": "ipython",
    "version": 3
   },
   "file_extension": ".py",
   "mimetype": "text/x-python",
   "name": "python",
   "nbconvert_exporter": "python",
   "pygments_lexer": "ipython3",
   "version": "3.11.4"
  }
 },
 "nbformat": 4,
 "nbformat_minor": 4
}
